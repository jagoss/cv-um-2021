{
  "nbformat": 4,
  "nbformat_minor": 0,
  "metadata": {
    "colab": {
      "name": "Practico_4_Reconocimiento_de_Objetos.ipynb",
      "provenance": [],
      "collapsed_sections": [],
      "toc_visible": true,
      "include_colab_link": true
    },
    "kernelspec": {
      "display_name": "Python 3",
      "language": "python",
      "name": "python3"
    },
    "language_info": {
      "codemirror_mode": {
        "name": "ipython",
        "version": 3
      },
      "file_extension": ".py",
      "mimetype": "text/x-python",
      "name": "python",
      "nbconvert_exporter": "python",
      "pygments_lexer": "ipython3",
      "version": "3.6.8"
    }
  },
  "cells": [
    {
      "cell_type": "markdown",
      "metadata": {
        "id": "view-in-github",
        "colab_type": "text"
      },
      "source": [
        "<a href=\"https://colab.research.google.com/github/nicolasrondan/cv-um-2021/blob/main/practico-4/Practico_4_Reconocimiento_de_Objetos.ipynb\" target=\"_parent\"><img src=\"https://colab.research.google.com/assets/colab-badge.svg\" alt=\"Open In Colab\"/></a>"
      ]
    },
    {
      "cell_type": "code",
      "metadata": {
        "id": "lt4KL44TBQX4",
        "colab": {
          "base_uri": "https://localhost:8080/"
        },
        "outputId": "9e5dd9cd-dd18-47d3-d5e0-dbba0df1b4e7"
      },
      "source": [
        "#@title \n",
        "from google.colab import drive\n",
        "drive.mount('/content/drive')"
      ],
      "execution_count": 1,
      "outputs": [
        {
          "output_type": "stream",
          "text": [
            "Mounted at /content/drive\n"
          ],
          "name": "stdout"
        }
      ]
    },
    {
      "cell_type": "code",
      "metadata": {
        "id": "yKURtska1IgS",
        "colab": {
          "base_uri": "https://localhost:8080/"
        },
        "outputId": "589fd1dd-6007-44fe-edd6-1922140d9154"
      },
      "source": [
        "%cd /content/drive/MyDrive/computer-vision-um/cv-um-2021/practico-4/"
      ],
      "execution_count": 2,
      "outputs": [
        {
          "output_type": "stream",
          "text": [
            "/content/drive/MyDrive/computer-vision-um/cv-um-2021/practico-4\n"
          ],
          "name": "stdout"
        }
      ]
    },
    {
      "cell_type": "markdown",
      "metadata": {
        "id": "qnfuZtAMJGWj"
      },
      "source": [
        "# INSTALACION (SOLO EJECUTAR EN GOOGLE COLAB) \n",
        "***Importante*** *: El codigo de instalción hace que el entorno se reinicie, luego de reiniciar volver a todas las celdas (Incluso montar Google driver) para que los paquetes necesarios queden instalado correctamente.*"
      ]
    },
    {
      "cell_type": "code",
      "metadata": {
        "id": "dVReHsEgWMjL"
      },
      "source": [
        "#@title Installing condacolab (ONLY GOOGLE COLAB)\n",
        "!pip install -q condacolab"
      ],
      "execution_count": 1,
      "outputs": []
    },
    {
      "cell_type": "code",
      "metadata": {
        "colab": {
          "base_uri": "https://localhost:8080/"
        },
        "id": "XenJ7FPUWZLQ",
        "outputId": "f70f7f2e-e39a-4ee4-9b55-3d2b4fc135c5"
      },
      "source": [
        "#@title install conda\n",
        "import condacolab\n",
        "condacolab.install()"
      ],
      "execution_count": 2,
      "outputs": [
        {
          "output_type": "stream",
          "text": [
            "✨🍰✨ Everything looks OK!\n"
          ],
          "name": "stdout"
        }
      ]
    },
    {
      "cell_type": "code",
      "metadata": {
        "colab": {
          "base_uri": "https://localhost:8080/"
        },
        "id": "gSihsNC1Xv2U",
        "outputId": "ae16894f-a3b4-462f-d1a8-d23f14f081c3"
      },
      "source": [
        "#@title check conda\n",
        "import condacolab\n",
        "condacolab.check()"
      ],
      "execution_count": 3,
      "outputs": [
        {
          "output_type": "stream",
          "text": [
            "✨🍰✨ Everything looks OK!\n"
          ],
          "name": "stdout"
        }
      ]
    },
    {
      "cell_type": "code",
      "metadata": {
        "id": "WUN9dxaoHRHb",
        "colab": {
          "base_uri": "https://localhost:8080/"
        },
        "outputId": "58730d41-ec0a-496f-9675-42b3b0d22fe6"
      },
      "source": [
        "#@title install cyvlfeat\n",
        "!conda install -c conda-forge cyvlfeat -y"
      ],
      "execution_count": 4,
      "outputs": [
        {
          "output_type": "stream",
          "text": [
            "Collecting package metadata (current_repodata.json): - \b\b\\ \b\b| \b\b/ \b\b- \b\b\\ \b\b| \b\b/ \b\b- \b\b\\ \b\b| \b\b/ \b\b- \b\b\\ \b\b| \b\b/ \b\b- \b\b\\ \b\b| \b\b/ \b\b- \b\b\\ \b\b| \b\b/ \b\b- \b\b\\ \b\b| \b\b/ \b\b- \b\b\\ \b\b| \b\b/ \b\b- \b\b\\ \b\b| \b\b/ \b\b- \b\b\\ \b\b| \b\b/ \b\b- \b\b\\ \b\b| \b\b/ \b\b- \b\b\\ \b\b| \b\b/ \b\b- \b\b\\ \b\b| \b\b/ \b\b- \b\b\\ \b\b| \b\b/ \b\b- \b\b\\ \b\b| \b\b/ \b\b- \b\b\\ \b\b| \b\b/ \b\b- \b\b\\ \b\b| \b\b/ \b\b- \b\b\\ \b\b| \b\b/ \b\b- \b\b\\ \b\b| \b\b/ \b\bdone\n",
            "Solving environment: \\ \b\b| \b\b/ \b\b- \b\b\\ \b\b| \b\b/ \b\b- \b\b\\ \b\b| \b\b/ \b\b- \b\b\\ \b\b| \b\b/ \b\b- \b\b\\ \b\b| \b\b/ \b\b- \b\bdone\n",
            "\n",
            "## Package Plan ##\n",
            "\n",
            "  environment location: /usr/local\n",
            "\n",
            "  added / updated specs:\n",
            "    - cyvlfeat\n",
            "\n",
            "\n",
            "The following packages will be downloaded:\n",
            "\n",
            "    package                    |            build\n",
            "    ---------------------------|-----------------\n",
            "    cyvlfeat-0.7.0             |   py37h27c44b0_0         1.3 MB  conda-forge\n",
            "    libblas-3.9.0              |       8_openblas          11 KB  conda-forge\n",
            "    libcblas-3.9.0             |       8_openblas          11 KB  conda-forge\n",
            "    libgfortran-ng-9.3.0       |      hff62375_18          22 KB  conda-forge\n",
            "    libgfortran5-9.3.0         |      hff62375_18         2.0 MB  conda-forge\n",
            "    liblapack-3.9.0            |       8_openblas          11 KB  conda-forge\n",
            "    libopenblas-0.3.12         |pthreads_h4812303_1         8.9 MB  conda-forge\n",
            "    numpy-1.20.1               |   py37haa41c4c_0         5.8 MB  conda-forge\n",
            "    scipy-1.6.1                |   py37h14a347d_0        20.5 MB  conda-forge\n",
            "    vlfeat-0.9.20              |    h14c3975_1002         230 KB  conda-forge\n",
            "    ------------------------------------------------------------\n",
            "                                           Total:        38.7 MB\n",
            "\n",
            "The following NEW packages will be INSTALLED:\n",
            "\n",
            "  cyvlfeat           conda-forge/linux-64::cyvlfeat-0.7.0-py37h27c44b0_0\n",
            "  libblas            conda-forge/linux-64::libblas-3.9.0-8_openblas\n",
            "  libcblas           conda-forge/linux-64::libcblas-3.9.0-8_openblas\n",
            "  libgfortran-ng     conda-forge/linux-64::libgfortran-ng-9.3.0-hff62375_18\n",
            "  libgfortran5       conda-forge/linux-64::libgfortran5-9.3.0-hff62375_18\n",
            "  liblapack          conda-forge/linux-64::liblapack-3.9.0-8_openblas\n",
            "  libopenblas        conda-forge/linux-64::libopenblas-0.3.12-pthreads_h4812303_1\n",
            "  numpy              conda-forge/linux-64::numpy-1.20.1-py37haa41c4c_0\n",
            "  scipy              conda-forge/linux-64::scipy-1.6.1-py37h14a347d_0\n",
            "  vlfeat             conda-forge/linux-64::vlfeat-0.9.20-h14c3975_1002\n",
            "\n",
            "\n",
            "\n",
            "Downloading and Extracting Packages\n",
            "libcblas-3.9.0       | 11 KB     | : 100% 1.0/1 [00:00<00:00,  8.22it/s]\n",
            "libblas-3.9.0        | 11 KB     | : 100% 1.0/1 [00:00<00:00, 21.70it/s]\n",
            "libgfortran-ng-9.3.0 | 22 KB     | : 100% 1.0/1 [00:00<00:00, 16.83it/s]\n",
            "libgfortran5-9.3.0   | 2.0 MB    | : 100% 1.0/1 [00:00<00:00,  1.90it/s]\n",
            "vlfeat-0.9.20        | 230 KB    | : 100% 1.0/1 [00:00<00:00, 11.85it/s]\n",
            "cyvlfeat-0.7.0       | 1.3 MB    | : 100% 1.0/1 [00:00<00:00,  3.65it/s]\n",
            "scipy-1.6.1          | 20.5 MB   | : 100% 1.0/1 [00:03<00:00,  3.65s/it]\n",
            "numpy-1.20.1         | 5.8 MB    | : 100% 1.0/1 [00:01<00:00,  1.27s/it]\n",
            "libopenblas-0.3.12   | 8.9 MB    | : 100% 1.0/1 [00:01<00:00,  1.66s/it]\n",
            "liblapack-3.9.0      | 11 KB     | : 100% 1.0/1 [00:00<00:00, 21.10it/s]\n",
            "Preparing transaction: | \b\bdone\n",
            "Verifying transaction: - \b\b\\ \b\b| \b\bdone\n",
            "Executing transaction: - \b\b\\ \b\b| \b\b/ \b\bdone\n"
          ],
          "name": "stdout"
        }
      ]
    },
    {
      "cell_type": "markdown",
      "metadata": {
        "id": "FfnW2F8u016G"
      },
      "source": [
        "# Introducción\n",
        "\n",
        "En este practico vamos a trabajar sobre los distintos algoritmos de reconocimiento de objetos y escenas vistos en clase. En particular vamos a clasificar imágenes de distintos tipos de escenas (Cocina, Dormitorio, Oficina, etc). Para ello vamos a utilizar dos representaciones de imágenes diferentes (Imágenes raw y Bag of Words basado en descriptores SIFT). A su vez se van a utilizar dos clasificadores KNN y SVM para clasificar las imágenes. Se  van a clasificar las 15 categorias de imágenes del articulo [Lazebnik et al 2006](https://inc.ucsd.edu/~marni/Igert/Lazebnik_06.pdf) y se va a implementar uno de los baselines utilizados en el articulo para clasificar imágenes (SIFT + BoW).\n",
        "\n",
        "Los datos de entrenamineto de este practico se encuentran en el siguiente en enlace de [Sharepoint](https://umontevideo.sharepoint.com/:u:/s/ComputerVision2021/EZ3Dr8jvCOhImdhgklglpZ4BKJ5reKl-0huOWmEevGJMaQ?e=l8W9hu). Descargar el archivo descompromirlo y copiar la carpeta en el su drive:\n",
        "\n",
        "\\* `/content/drive/MyDrive/computer-vision-um/cv-um-2021/practico-4/data`\n",
        "\n",
        "\n",
        "\\**Este practico fue adaptado de un trabajo propuesto en el curso Image and Vision Computing de University of Edinburgh y originalmente diseñando por James Hays para Brown University.*"
      ]
    },
    {
      "cell_type": "markdown",
      "metadata": {
        "id": "VRp4MNqZ016J"
      },
      "source": [
        "## Configuración\n",
        "Para la implementación de BoW y SIFT en la Parte 2 de este laboratorio vamos a utilizar el paquete vlfeat para Pyhton (www.vlfeat.org). Para instalarlo en google colab es necesario ejectutar el bloque de instalación en el encabezado del notebook. Si quieren instalarlo localmente en su computadora es recomendable usa conda un con un *virtualenv*. Para instalar vlfeat utilizar el siguiente comando dentro de su *virtualenv*.\n",
        "\n",
        "\n",
        "\n",
        "```\n",
        "conda install -c conda-forge cyvlfeat\n",
        "```\n",
        "\n"
      ]
    },
    {
      "cell_type": "markdown",
      "metadata": {
        "id": "CbG7fY-T016K"
      },
      "source": [
        "# Parte1: Miniaturas de Imágenes y KNN"
      ]
    },
    {
      "cell_type": "markdown",
      "metadata": {
        "id": "CEA_jHQy016L"
      },
      "source": [
        "La primera parte consiste en implementar una versión simple del clasificador KNN. Para ello vamos a utilizar el código provisto en esta sección el cual ya tiene implementadas funciones para leer las imágenes de entrenamiento, convertirlas en miniaturas de 16x16 además una función para mostrar los resultados clasificación. Revisar este archivo y las funciones provistas, asegurarse de entender que es lo que se está haciendo en cada una de ellas.\n",
        "\n"
      ]
    },
    {
      "cell_type": "code",
      "metadata": {
        "id": "bTsr-OUw016L"
      },
      "source": [
        "import numpy as np\n",
        "import cv2\n",
        "import matplotlib.pyplot as plt\n",
        "from glob import glob\n",
        "import os"
      ],
      "execution_count": null,
      "outputs": []
    },
    {
      "cell_type": "markdown",
      "metadata": {
        "id": "c5kThUE8016M"
      },
      "source": [
        "### Elegir los datos de training y testing"
      ]
    },
    {
      "cell_type": "code",
      "metadata": {
        "id": "pcIwam2E016M"
      },
      "source": [
        "def get_image_paths(data_path, categories, num_train_per_cat):\n",
        "    '''This function returns cell arrays containing the file path for each train\n",
        "    and test image, as well as cell arrays with the label of each train and\n",
        "    test image. By default all four of these arrays will be 1500x1 where each\n",
        "    entry is a char array (or string).\n",
        "    '''\n",
        "    \n",
        "    num_categories = len(categories) #number of scene categories.\n",
        "\n",
        "    #This paths for each training and test image. By default it will have 1500\n",
        "    #entries (15 categories * 100 training and test examples each)\n",
        "    train_image_paths = [] #num_categories * num_train_per_cat, 1);\n",
        "    test_image_paths  = [] #cell(num_categories * num_train_per_cat, 1);\n",
        "\n",
        "    #The name of the category for each training and test image. With the\n",
        "    #default setup, these arrays will actually be the same, but they are built\n",
        "    #independently for clarity and ease of modification.\n",
        "    \n",
        "    train_labels = []\n",
        "    test_labels  = []\n",
        "\n",
        "    for i in range(0,num_categories):\n",
        "        images = sorted(glob(os.path.join(data_path, 'train', categories[i], '*.jpg')))\n",
        "\n",
        "        train_image_paths += images[:num_train_per_cat]\n",
        "        train_labels += [categories[i]]*num_train_per_cat \n",
        "       \n",
        "        images_test = sorted(glob(os.path.join(data_path, 'test', categories[i], '*.jpg')))\n",
        "    \n",
        "        test_image_paths += images_test[:num_train_per_cat]\n",
        "        test_labels += [categories[i]]*num_train_per_cat \n",
        "        \n",
        "    return train_image_paths, test_image_paths, train_labels, test_labels"
      ],
      "execution_count": null,
      "outputs": []
    },
    {
      "cell_type": "code",
      "metadata": {
        "id": "YuhiiLfu016N"
      },
      "source": [
        "data_path = './data/'; \n",
        "categories = ['Kitchen', 'Store', 'Bedroom', 'LivingRoom', 'Office', \n",
        "       'Industrial', 'Suburb', 'InsideCity', 'TallBuilding', 'Street',\n",
        "       'Highway', 'OpenCountry', 'Coast', 'Mountain', 'Forest']\n",
        "abbr_categories = ['Kit', 'Sto', 'Bed', 'Liv', 'Off', 'Ind', 'Sub', \n",
        "    'Cty', 'Bld', 'St', 'HW', 'OC', 'Cst', 'Mnt', 'For']"
      ],
      "execution_count": null,
      "outputs": []
    },
    {
      "cell_type": "code",
      "metadata": {
        "id": "fyRHz-Co016N"
      },
      "source": [
        "train_image_paths, test_image_paths, train_labels, test_labels = get_image_paths(data_path,categories,50)"
      ],
      "execution_count": null,
      "outputs": []
    },
    {
      "cell_type": "markdown",
      "metadata": {
        "id": "EF4NXlFK016O"
      },
      "source": [
        "### Representar cada imagen con features"
      ]
    },
    {
      "cell_type": "code",
      "metadata": {
        "id": "VBFVm6te8T8y"
      },
      "source": [
        "from tqdm import tqdm"
      ],
      "execution_count": null,
      "outputs": []
    },
    {
      "cell_type": "code",
      "metadata": {
        "id": "_aybGzGt016O"
      },
      "source": [
        "def tiny_images(image_paths):\n",
        "\n",
        "    num = len(image_paths)\n",
        "    new_size = 16 \n",
        "    feature_matrix = np.zeros([num,new_size*new_size])\n",
        "\n",
        "    \n",
        "\n",
        "    for idx, image_path in tqdm(enumerate(image_paths), total=len(image_paths)):\n",
        "        \n",
        "        in_image = cv2.imread(image_path)\n",
        "        in_image = cv2.cvtColor(in_image, cv2.COLOR_BGR2GRAY)\n",
        "        in_image = in_image/255.\n",
        "        ns_image = cv2.resize(in_image,(new_size, new_size))\n",
        "        feature_matrix[idx,:] = ns_image.flatten()\n",
        "\n",
        "\n",
        "    tiny_image = np.zeros(in_image.shape)\n",
        "    tiny_image[0:new_size,0:new_size]=ns_image\n",
        "    \n",
        "    plt.subplot(121)\n",
        "    plt.imshow(in_image,cmap='gray')\n",
        "    plt.subplot(122)\n",
        "    plt.imshow(tiny_image,cmap='gray')\n",
        "    plt.title('Example image and its tiny representation')\n",
        "\n",
        "    return feature_matrix"
      ],
      "execution_count": null,
      "outputs": []
    },
    {
      "cell_type": "code",
      "metadata": {
        "id": "ukCu7y0T016O"
      },
      "source": [
        "#Step 1: Represent each image with a feature\n",
        "print('Using Tiny images representation for images') \n",
        "\n",
        "train_image = tiny_images(train_image_paths)\n",
        "test_image  = tiny_images(test_image_paths)\n"
      ],
      "execution_count": null,
      "outputs": []
    },
    {
      "cell_type": "markdown",
      "metadata": {
        "id": "kc0_Qgls016Q"
      },
      "source": [
        "## Entrenar Clasificadores\n"
      ]
    },
    {
      "cell_type": "markdown",
      "metadata": {
        "id": "ifkJkfyI016Q"
      },
      "source": [
        "Pasos:\n",
        "1. ***Implementar Clasificador:***\n",
        "Una vez extraída la representación de las imágenes (`tiny_images`) es necesario implementar un clasificador KNN en la funcion nearest_neighbour esta función tiene como parámetros un array N × D de imágenes de entrenamiento (`train_images`), una lista de N elementos conteniendo las etiquetas de entrenamiento (`train_labels`) y un array de M×D conteniendo las imágenes a clasificar (`test_images`). La salida debe ser una lista (`predicted_labels`) de tamaño M conteniendo las predicciones de etiquetas para las imágenes de testing.\n",
        "2. ***Evaluar Algoritmo:***\n",
        "Una vez hechas las predicciones la función `create_results_webpage` evalua el algoritmo al comparar las predicciones contra las etiquetas reales de las imágenes de testing (esto se denomina ground truth). En esta evaluación vamos a reportar el ***Accuracy*** total del algoritmo y la matriz de confusión entre clases. También se van a mostrar algunas predicciones de ejemplo que realiza el algoritmo. \n",
        "\n"
      ]
    },
    {
      "cell_type": "markdown",
      "metadata": {
        "id": "Ou1yQsEo4kk9"
      },
      "source": [
        "### Matriz de confusión\n",
        "\n",
        "Una matriz de confusión muestra las distintas clases y el porcentaje de errores de clasificación de cada clase con cada una de las otras clases posibles. Un ejemplo de la salida se puede visualizar en la siguiente figura, donde se ve que para el caso de escenas de una autopista (Highway) clasifica correctamente en el 68 % de los casos."
      ]
    },
    {
      "cell_type": "markdown",
      "metadata": {
        "id": "M_PXPq2q3BOF"
      },
      "source": [
        "![Confussion_matrix.png](data:image/png;base64,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)"
      ]
    },
    {
      "cell_type": "markdown",
      "metadata": {
        "id": "pNG_iU3s3P-J"
      },
      "source": [
        "\n",
        "***Como interpretar los resultados***: Para el caso de NN sencillo (1-NN) el accuracy final de la clasificación es 16%. Si bien no es un buen resultado es bastante mejor que utilizar un clasificador random donde el accuracy debería ser 1/15 = 6,6 %\n",
        "\n",
        "***Hint 1***: Se puede utilizar la función de [cdist](https://docs.scipy.org/doc/scipy/reference/generated/scipy.spatial.distance.cdist.html) de Scipy que hace la mayoría del trabajo al implementar el algoritmo de KNN. Otras funciones útiles son min(), [argsort](https://www.kite.com/python/docs/numpy.argsort), unique(). Implementar primero 1-NN y luego extenderlo a KNN."
      ]
    },
    {
      "cell_type": "markdown",
      "metadata": {
        "id": "rJxtuL5K96nR"
      },
      "source": [
        "Una vez implementado el algoritmo se pueden utilizar más datos de entrenamiento para mejorar el Accuracy modificando la variable `num_train_per_cat`\n",
        ". \n",
        "\n",
        "**[Opcional]** \n",
        "Probar si los resultados finales varían al hacer alguna de las siguientes mejoras:\n",
        "1. Modificar el tamaño del thumbnail utilizado para representar una imagen. \n",
        "2. Estandarizar los datos antes de clasificar (función [normalize](https://scikit-learn.org/stable/modules/generated/sklearn.preprocessing.normalize.html#sklearn.preprocessing.normalize)). \n",
        "3. Utilizar otras distancias que no sean la Euclidiana para comparar la representación dos imágenes."
      ]
    },
    {
      "cell_type": "code",
      "metadata": {
        "id": "Pz8WIbVs32Zx"
      },
      "source": [
        "from scipy.spatial.distance import cdist\n",
        "from sklearn import preprocessing\n",
        "from scipy.stats import mode"
      ],
      "execution_count": null,
      "outputs": []
    },
    {
      "cell_type": "code",
      "metadata": {
        "id": "Cgnxgqfa016R"
      },
      "source": [
        "def nearest_neighbor(train_image, train_labels, test_image,k):\n",
        "\n",
        "    printf('\\n nearest neighbor classifier\\n')\n",
        "\n",
        "    le = preprocessing.LabelEncoder()\n",
        "    le.fit(train_labels)\n",
        "    categories = list(le.classes_)\n",
        "    num_categories = len(categories) \n",
        "\n",
        "    test_labels = []\n",
        "    \n",
        "    return test_labels"
      ],
      "execution_count": null,
      "outputs": []
    },
    {
      "cell_type": "code",
      "metadata": {
        "id": "vEX0m5sLEgGy"
      },
      "source": [
        "#Step 2: Classify each test image by training and using the appropriate classifier\n",
        "print('Using Nearest Neighbor classifier to predict test set categories')\n",
        "k=1  # the K nearest neighbor\n",
        "predicted_labels = nearest_neighbor(train_image, train_labels, test_image,k)  "
      ],
      "execution_count": null,
      "outputs": []
    },
    {
      "cell_type": "code",
      "metadata": {
        "id": "nsktMF5XZTNW"
      },
      "source": [
        "from web_page import create_results_webpage"
      ],
      "execution_count": null,
      "outputs": []
    },
    {
      "cell_type": "code",
      "metadata": {
        "id": "UKagbMJB3KIS"
      },
      "source": [
        "html = create_results_webpage(train_image_paths, test_image_paths, train_labels, test_labels, categories, abbr_categories, predicted_labels)"
      ],
      "execution_count": null,
      "outputs": []
    },
    {
      "cell_type": "code",
      "metadata": {
        "id": "DGD-3_vb6tDZ"
      },
      "source": [
        "import IPython\n",
        "from google.colab import output\n",
        "\n",
        "display(IPython.display.HTML(html))"
      ],
      "execution_count": null,
      "outputs": []
    },
    {
      "cell_type": "markdown",
      "metadata": {
        "id": "2bIot8oQUgKB"
      },
      "source": [
        "#Parte 2: SIFT BOW con clasificador SVM\n",
        "\n",
        "La segunda parte consiste en implementar una versión simple del algoritmo que utiliza BOW basado en descriptores SIFT para entrenar un clasificador SVM y clasificar imágenes. Para ello se probee el siguiente esqueleto de còdigo. \n",
        "Es necesario implmentar las funciones `codebook` que crea el vocabulario visual y la función `bag_of_words` que extrae la representación de una imagen con el algoritmo \"*bag_of_features*\" visto en clase."
      ]
    },
    {
      "cell_type": "markdown",
      "metadata": {
        "id": "Yol6JB5M83gK"
      },
      "source": [
        "## Construir el CodeBook\n",
        "En la función codebook se pide armar le vocabulario visual realizando los siguientes pasos:\n",
        "1. Iterar sobre los image path de las imágenes de entrada para cargar cada imagen y llamar una función que extraiga puntos SIFT con sus descriptores. Vamos a utilizar la implementación de SIFT para python de vl_feat en la cual se pueden obtener keypoints y descriptores utilizandos las funciones `sift` y `dsift`(dense sift). (*hint:* es recomendable hacer blur antes de calcular descriptores sift.)\n",
        "2. Agrupar todos los descriptores en una matriz y armar clusters de datos con una rutina k-means se puede utilizar la implementación de scikit-learn de [k-means](https://scikit-learn.org/stable/modules/generated/sklearn.cluster.KMeans.html). Finalmente utilizar el parámetro `num_words` para cambiar el numero de palabras en el diccionario visual.\n",
        "\n",
        "\\**Hint 1: Para hacer debbuging mientras se implementa el algoritmo se pueden utilizar menos imágenes de entrenamiento y menos palabras en el diccionario. Una vez implementado correctamente el algoritmo se pueden modificar estos parámetros para utilizar más datos y más palabras en el diccionario. El algoritmo puede demorar algunos minutos en entrenarse.*\n",
        "\n",
        "\\**Hint 2: Para acelerar el proceso de evaluar el algoritmo k-means es posible utilizar el algoritmo [MiniBatchKMeans](https://scikit-learn.org/stable/modules/generated/sklearn.cluster.MiniBatchKMeans.html) provisto por scikit-learn*\n",
        "\n"
      ]
    },
    {
      "cell_type": "code",
      "metadata": {
        "id": "CVdfCg2YGly9"
      },
      "source": [
        "from cyvlfeat.sift import sift, dsift\n",
        "from sklearn.cluster import KMeans\n",
        "from sklearn.cluster import MiniBatchKMeans"
      ],
      "execution_count": 5,
      "outputs": []
    },
    {
      "cell_type": "code",
      "metadata": {
        "id": "InWrOatEJ6oE"
      },
      "source": [
        "def codebook(image_paths,num_of_words):\n",
        "  print('building visual vocabulary')\n",
        "\n",
        "  \n",
        "\n",
        "  print('finish building vocaulary')\n"
      ],
      "execution_count": null,
      "outputs": []
    },
    {
      "cell_type": "code",
      "metadata": {
        "id": "irY9_ineMaei"
      },
      "source": [
        "if not os.path.exists('vocab.npy'):\n",
        "  print('No existing visual word vocabulary found. Computing one from training images')\n",
        "\n",
        "  num_of_words = 800; #Larger values will work better (to a point) but be slower to compute\n",
        "\n",
        "  vocab = codebook(train_image_paths, num_of_words)\n",
        "  np.save('vocab', vocab)"
      ],
      "execution_count": null,
      "outputs": []
    },
    {
      "cell_type": "code",
      "metadata": {
        "id": "T-gioHVYf_5o"
      },
      "source": [
        "vocab = np.load('vocab.npy')"
      ],
      "execution_count": null,
      "outputs": []
    },
    {
      "cell_type": "markdown",
      "metadata": {
        "id": "QvF7JG_nYydS"
      },
      "source": [
        "## Utilizar el diccionario visual para representar una imagen como Bag of Words\n",
        "\n",
        "\n",
        "En la función `bag_of_words` se deben leer las imágenes nuevamente y codificarlas utilizando el *codebook* o vocabulario visual entrenado previamente. Para hacer esto se puede seguir el siguiente procedimiento:\n",
        "\n",
        "1. Extraer features para cada imagen utilizando el mismo extractor de features que en el codebook(ej. `dsift` extrae keypoints y los representa con descriptor de 128 bytes).\n",
        "2.  Proyectar los descriptores a las palabras del diccionario visual (Se puede utilizar las funcion [cdist](https://docs.scipy.org/doc/scipy/reference/generated/scipy.spatial.distance.cdist.html) más la función min para hacer esto).\n",
        "3. Codificar las imágenes en un histograma de palabras visuales (Se puede utilizar la funcion [histogram](https://numpy.org/doc/stable/reference/generated/numpy.histogram.html) de numpy). Es recomendable normalizar el histograma.\n",
        "\n",
        "\n",
        "Una vez hecho esto, la función `bag_of_words` debe retornar una matriz de tamaño *N × num_of_words* conteniendo el histograma BoW para cada una de las N imágenes."
      ]
    },
    {
      "cell_type": "code",
      "metadata": {
        "id": "ndeHdLpgGISz"
      },
      "source": [
        "def bag_of_words(image_paths,codebook):\n",
        "\n",
        "  word_lenght = codebook.shape[1]\n",
        "  vocab_size = codebook.shape[0]\n",
        "  print('bags of words')\n",
        "  num_images = len(image_paths)\n",
        "  container = []\n",
        "  image_features = np.zeros([num_images,vocab_size])\n",
        "\n",
        "  ### YOUR CODE \n",
        "\n",
        "  return image_features"
      ],
      "execution_count": null,
      "outputs": []
    },
    {
      "cell_type": "code",
      "metadata": {
        "id": "gVENNqwwMluf"
      },
      "source": [
        "train_image = bag_of_words(train_image_paths,vocab)\n",
        "test_image  = bag_of_words(test_image_paths,vocab)"
      ],
      "execution_count": null,
      "outputs": []
    },
    {
      "cell_type": "markdown",
      "metadata": {
        "id": "vl3CjMHT77RQ"
      },
      "source": [
        "## Clasificar utilizando un SVM\n",
        "\n",
        "\n",
        "El código para entrenar el clasificador SVM ya está implementado aunque los estudiantes pueden modificarlo si desean. El código utiliza la función vl_ svmtrain para entrenar y testear el clasificador SVM dependiendo de los para ́metros que se le pasen. El siguiente co ́digo sirve para evaluar las im ́agenes de test:"
      ]
    },
    {
      "cell_type": "code",
      "metadata": {
        "id": "_LuQoyYydEoY"
      },
      "source": [
        "from sklearn.svm import LinearSVC\n"
      ],
      "execution_count": null,
      "outputs": []
    },
    {
      "cell_type": "code",
      "metadata": {
        "id": "aDc-sopVfDqf"
      },
      "source": [
        "def svm(train_image, train_labels, test_image):\n",
        "\n",
        "  C_factor = 0.001\n",
        "  clf = LinearSVC(C=C_factor, multi_class='ovr')\n",
        "  print('svm training started ')\n",
        "\n",
        "  clf.fit(train_image, train_labels)\n",
        "  print('svm training finished ')\n",
        "\n",
        "  predictions = clf.predict(test_image)\n",
        "\n",
        "  return predictions\n"
      ],
      "execution_count": null,
      "outputs": []
    },
    {
      "cell_type": "code",
      "metadata": {
        "id": "4SMybj5Mj1N6"
      },
      "source": [
        "predicted_labels = svm(train_image,train_labels,test_image)"
      ],
      "execution_count": null,
      "outputs": []
    },
    {
      "cell_type": "code",
      "metadata": {
        "id": "Cb0O0KCDtzQ_"
      },
      "source": [
        "html = create_results_webpage(train_image_paths, test_image_paths, train_labels, test_labels, categories, abbr_categories, predicted_labels)"
      ],
      "execution_count": null,
      "outputs": []
    },
    {
      "cell_type": "code",
      "metadata": {
        "id": "aQHWINxZuBR3"
      },
      "source": [
        "import IPython\n",
        "\n",
        "display(IPython.display.HTML(html))"
      ],
      "execution_count": null,
      "outputs": []
    },
    {
      "cell_type": "markdown",
      "metadata": {
        "id": "hZhBQdgmuFrn"
      },
      "source": [
        "##  Resultados Finales\n",
        "\n",
        "\n",
        "El código para entrenar el clasificador SVM ya está implementado aunque los estudiantes pueden modificarlo si desean. El código utiliza el modelo [LinearSVC](https://scikit-learn.org/stable/modules/generated/sklearn.svm.LinearSVC.html#sklearn.svm.LinearSVC) de scikit-learn para entrenar y testear el clasificador SVM. \n",
        "\n",
        "Como el clasificador SVM es lineal en este caso se entrenan 15 1-vs-rest clasificadores (esto se hace automáticamente al pasarle al clasificador el parametrod `multi_class='ovr'`). El SVM utiliza un parámetro de regularización C, se puede seleccionar el valor manualmente o utilizando un algoritmos del tipo grid-search para buscar un valor más óptimo.\n",
        "\n",
        "**Resultados Esperados**: En este caso una implementación simple de SIFT BoW + SVM utilizando `dsift` debe estar cerca de 22% de Accuracy."
      ]
    },
    {
      "cell_type": "markdown",
      "metadata": {
        "id": "q1coPEGeyDDU"
      },
      "source": [
        "**[Opcional]** En el [articulo original](https://inc.ucsd.edu/~marni/Igert/Lazebnik_06.pdf) presentado en 2006 los autores reportan alrededor de un 70% de Accuracy. Para ello es necesario afinar todas las partes del pipeline del algoritmo. Optimizar la extracción de features SIFT, optimizar el vocabulario visual y optimizar la regularización del SVM. Buscar en el árticulo original los parámetros necesarios para llegar al nivel de Accuracy señalado.\n"
      ]
    }
  ]
}